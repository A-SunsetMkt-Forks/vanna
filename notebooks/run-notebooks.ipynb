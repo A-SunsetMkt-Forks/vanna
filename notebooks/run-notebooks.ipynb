{
 "cells": [
  {
   "cell_type": "markdown",
   "id": "03a7d000",
   "metadata": {},
   "source": [
    "#### This Notebook runs other notebooks\n",
    "This notebook is designed to run other notebooks in worfkflows."
   ]
  },
  {
   "cell_type": "code",
   "execution_count": null,
   "id": "f898d08a",
   "metadata": {},
   "outputs": [],
   "source": [
    "# pip install papermill"
   ]
  },
  {
   "cell_type": "code",
   "execution_count": 2,
   "id": "ad768886",
   "metadata": {},
   "outputs": [],
   "source": [
    "import papermill as pm"
   ]
  },
  {
   "cell_type": "code",
   "execution_count": 3,
   "id": "fb95c55e",
   "metadata": {},
   "outputs": [],
   "source": [
    "import os\n",
    "import json\n",
    "if secretsPath:\n",
    "    with open(secretsPath, 'r') as secretsFile:\n",
    "        secrets = json.loads(secretsFile.read())\n",
    "        service_account_creds = secrets.pop('SERVICE_ACCOUNT_CREDS')\n",
    "        for (k, v) in secrets.items():\n",
    "            os.environ[k] = v"
   ]
  },
  {
   "cell_type": "markdown",
   "id": "e14c2619",
   "metadata": {},
   "source": [
    "Store service account creds as a json file."
   ]
  },
  {
   "cell_type": "code",
   "execution_count": 4,
   "id": "1571801c",
   "metadata": {},
   "outputs": [],
   "source": [
    "json_file_path = \"service_account_data.json\"\n",
    "with open(json_file_path, \"w\") as json_file:\n",
    "    json.dump(service_account_creds, json_file, indent=2)\n",
    "    os.environ['SERVICE_ACCOUNT_CREDS_PATH'] = json_file_path"
   ]
  },
  {
   "cell_type": "code",
   "execution_count": 5,
   "id": "1824b62a",
   "metadata": {},
   "outputs": [],
   "source": [
    "notebooks = ['vn-train.ipynb', 'vn-ask.ipynb', 'getting-started.ipynb', 'vn-connect-to-postgres.ipynb', 'manual-train.ipynb']"
   ]
  },
  {
   "cell_type": "code",
   "execution_count": 6,
   "id": "ce99e2b1",
   "metadata": {
    "scrolled": true
   },
   "outputs": [],
   "source": [
    "for notebook in notebooks: \n",
    "    pm.execute_notebook(\n",
    "        input_path=notebook,\n",
    "        output_path=f'output-{notebook}.ipynb',\n",
    "    )"
   ]
  }
 ],
 "metadata": {
  "kernelspec": {
   "display_name": "Python 3 (ipykernel)",
   "language": "python",
   "name": "python3"
  },
  "language_info": {
   "codemirror_mode": {
    "name": "ipython",
    "version": 3
   },
   "file_extension": ".py",
   "mimetype": "text/x-python",
   "name": "python",
   "nbconvert_exporter": "python",
   "pygments_lexer": "ipython3",
   "version": "3.10.12"
  }
 },
 "nbformat": 4,
 "nbformat_minor": 5
}
